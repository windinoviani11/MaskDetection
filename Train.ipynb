{
  "cells": [
    {
      "cell_type": "code",
      "execution_count": null,
      "id": "4316699c",
      "metadata": {
        "colab": {
          "base_uri": "https://localhost:8080/"
        },
        "id": "4316699c",
        "outputId": "a46c04e8-8e63-4155-c3bf-2702e167e71e"
      },
      "outputs": [
        {
          "output_type": "stream",
          "name": "stdout",
          "text": [
            "Mounted at /content/drive\n"
          ]
        }
      ],
      "source": [
        "from google.colab import drive\n",
        "\n",
        "drive.mount(\"/content/drive\")"
      ]
    },
    {
      "cell_type": "code",
      "execution_count": null,
      "id": "8af8a9fa",
      "metadata": {
        "id": "8af8a9fa"
      },
      "outputs": [],
      "source": [
        "# import the necessary packages\n",
        "from tensorflow.keras.preprocessing.image import ImageDataGenerator\n",
        "from tensorflow.keras.applications import MobileNetV2\n",
        "from tensorflow.keras.layers import AveragePooling2D\n",
        "from tensorflow.keras.layers import Dropout\n",
        "from tensorflow.keras.layers import Flatten\n",
        "from tensorflow.keras.layers import Dense\n",
        "from tensorflow.keras.layers import Input\n",
        "from tensorflow.keras.models import Model\n",
        "from tensorflow.keras.optimizers import Adam\n",
        "from tensorflow.keras.applications.mobilenet_v2 import preprocess_input\n",
        "from tensorflow.keras.preprocessing.image import img_to_array\n",
        "from tensorflow.keras.preprocessing.image import load_img\n",
        "from tensorflow.keras.utils import to_categorical\n",
        "from sklearn.preprocessing import LabelBinarizer\n",
        "from sklearn.model_selection import train_test_split\n",
        "from sklearn.metrics import classification_report\n",
        "from imutils import paths\n",
        "import matplotlib.pyplot as plt\n",
        "import numpy as np\n",
        "import os"
      ]
    },
    {
      "cell_type": "code",
      "execution_count": null,
      "id": "3521b843",
      "metadata": {
        "colab": {
          "base_uri": "https://localhost:8080/"
        },
        "id": "3521b843",
        "outputId": "4c683486-242f-4c20-ba27-39d1d83082be"
      },
      "outputs": [
        {
          "output_type": "stream",
          "name": "stdout",
          "text": [
            "[INFO] loading images...\n"
          ]
        }
      ],
      "source": [
        "# initialize the initial learning rate, number of epochs to train for,\n",
        "# and batch size\n",
        "INIT_LR = 1e-4\n",
        "EPOCHS = 20\n",
        "BS = 32\n",
        "\n",
        "DIRECTORY = r\"/content/drive/MyDrive/Final Project Machine Learning/Face-Mask-Detection-master (1)/Face-Mask-Detection-master/dataset\"\n",
        "CATEGORIES = [\"with_mask\", \"without_mask\"]\n",
        "\n",
        "# grab the list of images in our dataset directory, then initialize\n",
        "# the list of data (i.e., images) and class images\n",
        "print(\"[INFO] loading images...\")\n",
        "\n",
        "data = []\n",
        "labels = []"
      ]
    },
    {
      "cell_type": "code",
      "execution_count": null,
      "id": "40bab032",
      "metadata": {
        "colab": {
          "base_uri": "https://localhost:8080/"
        },
        "id": "40bab032",
        "outputId": "1a6ef7ec-ccd7-4fc2-f6bb-97a4daa39601"
      },
      "outputs": [
        {
          "output_type": "stream",
          "name": "stderr",
          "text": [
            "/usr/local/lib/python3.8/dist-packages/PIL/Image.py:959: UserWarning: Palette images with Transparency expressed in bytes should be converted to RGBA images\n",
            "  warnings.warn(\n"
          ]
        }
      ],
      "source": [
        "for category in CATEGORIES:\n",
        "    path = os.path.join(DIRECTORY, category)\n",
        "    for img in os.listdir(path):\n",
        "    \timg_path = os.path.join(path, img)\n",
        "    \timage = load_img(img_path, target_size=(224, 224))\n",
        "    \timage = img_to_array(image)\n",
        "    \timage = preprocess_input(image)\n",
        "\n",
        "    \tdata.append(image)\n",
        "    \tlabels.append(category)\n"
      ]
    },
    {
      "cell_type": "code",
      "execution_count": null,
      "id": "b51c4163",
      "metadata": {
        "id": "b51c4163"
      },
      "outputs": [],
      "source": [
        "# perform one-hot encoding on the labels\n",
        "lb = LabelBinarizer()\n",
        "labels = lb.fit_transform(labels)\n",
        "labels = to_categorical(labels)\n",
        "\n",
        "data = np.array(data, dtype=\"float32\")\n",
        "labels = np.array(labels)\n",
        "\n",
        "(trainX, testX, trainY, testY) = train_test_split(data, labels,\n",
        "\ttest_size=0.20, stratify=labels, random_state=42)"
      ]
    },
    {
      "cell_type": "code",
      "execution_count": null,
      "id": "da31d8e4",
      "metadata": {
        "id": "da31d8e4"
      },
      "outputs": [],
      "source": [
        "# construct the training image generator for data augmentation\n",
        "aug = ImageDataGenerator(\n",
        "\trotation_range=20,\n",
        "\tzoom_range=0.15,\n",
        "\twidth_shift_range=0.2,\n",
        "\theight_shift_range=0.2,\n",
        "\tshear_range=0.15,\n",
        "\thorizontal_flip=True,\n",
        "\tfill_mode=\"nearest\")"
      ]
    },
    {
      "cell_type": "code",
      "execution_count": null,
      "id": "227a0903",
      "metadata": {
        "colab": {
          "base_uri": "https://localhost:8080/"
        },
        "id": "227a0903",
        "outputId": "bd84e980-1b32-453b-ddcc-969a3b6a1144"
      },
      "outputs": [
        {
          "output_type": "stream",
          "name": "stderr",
          "text": [
            "WARNING:tensorflow:`input_shape` is undefined or non-square, or `rows` is not in [96, 128, 160, 192, 224]. Weights for input shape (224, 224) will be loaded as the default.\n"
          ]
        },
        {
          "output_type": "stream",
          "name": "stdout",
          "text": [
            "Downloading data from https://storage.googleapis.com/tensorflow/keras-applications/mobilenet_v2/mobilenet_v2_weights_tf_dim_ordering_tf_kernels_1.0_224_no_top.h5\n",
            "9406464/9406464 [==============================] - 0s 0us/step\n"
          ]
        }
      ],
      "source": [
        "# load the MobileNetV2 network, ensuring the head FC layer sets are\n",
        "# left off\n",
        "baseModel = MobileNetV2(weights=\"imagenet\", include_top=False,\n",
        "\tinput_tensor=Input(shape=(224, 224, 3)))"
      ]
    },
    {
      "cell_type": "code",
      "execution_count": null,
      "id": "005b39e8",
      "metadata": {
        "id": "005b39e8"
      },
      "outputs": [],
      "source": [
        "# construct the head of the model that will be placed on top of the\n",
        "# the base model\n",
        "headModel = baseModel.output\n",
        "headModel = AveragePooling2D(pool_size=(7, 7))(headModel)\n",
        "headModel = Flatten(name=\"flatten\")(headModel)\n",
        "headModel = Dense(128, activation=\"relu\")(headModel)\n",
        "headModel = Dropout(0.5)(headModel)\n",
        "headModel = Dense(2, activation=\"softmax\")(headModel)"
      ]
    },
    {
      "cell_type": "code",
      "execution_count": null,
      "id": "79939b62",
      "metadata": {
        "id": "79939b62"
      },
      "outputs": [],
      "source": [
        "# place the head FC model on top of the base model (this will become\n",
        "# the actual model we will train)\n",
        "model = Model(inputs=baseModel.input, outputs=headModel)\n",
        "\n"
      ]
    },
    {
      "cell_type": "code",
      "execution_count": null,
      "id": "cdaa8d99",
      "metadata": {
        "id": "cdaa8d99"
      },
      "outputs": [],
      "source": [
        "# loop over all layers in the base model and freeze them so they will\n",
        "# *not* be updated during the first training process\n",
        "for layer in baseModel.layers:\n",
        "\tlayer.trainable = False\n",
        "\n"
      ]
    },
    {
      "cell_type": "code",
      "execution_count": null,
      "id": "a0fa8245",
      "metadata": {
        "colab": {
          "base_uri": "https://localhost:8080/"
        },
        "id": "a0fa8245",
        "outputId": "c033ddc9-77b8-4dfc-f85a-f194b99c949b"
      },
      "outputs": [
        {
          "output_type": "stream",
          "name": "stdout",
          "text": [
            "[INFO] compiling model...\n"
          ]
        },
        {
          "output_type": "stream",
          "name": "stderr",
          "text": [
            "/usr/local/lib/python3.8/dist-packages/keras/optimizers/optimizer_v2/adam.py:110: UserWarning: The `lr` argument is deprecated, use `learning_rate` instead.\n",
            "  super(Adam, self).__init__(name, **kwargs)\n"
          ]
        }
      ],
      "source": [
        "# compile our model\n",
        "print(\"[INFO] compiling model...\")\n",
        "opt = Adam(lr=INIT_LR, decay=INIT_LR / EPOCHS)\n",
        "model.compile(loss=\"binary_crossentropy\", optimizer=opt,\n",
        "\tmetrics=[\"accuracy\"])\n",
        "\n"
      ]
    },
    {
      "cell_type": "code",
      "execution_count": null,
      "id": "1d338bb8",
      "metadata": {
        "colab": {
          "base_uri": "https://localhost:8080/"
        },
        "id": "1d338bb8",
        "outputId": "473c2435-275a-4d05-9133-cad5b45ee0a8"
      },
      "outputs": [
        {
          "output_type": "stream",
          "name": "stdout",
          "text": [
            "[INFO] training head...\n",
            "Epoch 1/20\n",
            "95/95 [==============================] - 148s 2s/step - loss: 0.4020 - accuracy: 0.8616 - val_loss: 0.1725 - val_accuracy: 0.9648\n",
            "Epoch 2/20\n",
            "95/95 [==============================] - 144s 2s/step - loss: 0.1452 - accuracy: 0.9624 - val_loss: 0.1067 - val_accuracy: 0.9700\n",
            "Epoch 3/20\n",
            "95/95 [==============================] - 144s 2s/step - loss: 0.1037 - accuracy: 0.9723 - val_loss: 0.0849 - val_accuracy: 0.9700\n",
            "Epoch 4/20\n",
            "95/95 [==============================] - 143s 1s/step - loss: 0.0757 - accuracy: 0.9815 - val_loss: 0.0741 - val_accuracy: 0.9739\n",
            "Epoch 5/20\n",
            "95/95 [==============================] - 143s 2s/step - loss: 0.0677 - accuracy: 0.9806 - val_loss: 0.0653 - val_accuracy: 0.9765\n",
            "Epoch 6/20\n",
            "95/95 [==============================] - 143s 2s/step - loss: 0.0644 - accuracy: 0.9799 - val_loss: 0.0576 - val_accuracy: 0.9778\n",
            "Epoch 7/20\n",
            "95/95 [==============================] - 145s 2s/step - loss: 0.0468 - accuracy: 0.9878 - val_loss: 0.0562 - val_accuracy: 0.9778\n",
            "Epoch 8/20\n",
            "95/95 [==============================] - 142s 1s/step - loss: 0.0461 - accuracy: 0.9878 - val_loss: 0.0486 - val_accuracy: 0.9831\n",
            "Epoch 9/20\n",
            "95/95 [==============================] - 140s 1s/step - loss: 0.0404 - accuracy: 0.9885 - val_loss: 0.0514 - val_accuracy: 0.9791\n",
            "Epoch 10/20\n",
            "95/95 [==============================] - 142s 1s/step - loss: 0.0395 - accuracy: 0.9891 - val_loss: 0.0481 - val_accuracy: 0.9791\n",
            "Epoch 11/20\n",
            "95/95 [==============================] - 142s 1s/step - loss: 0.0340 - accuracy: 0.9888 - val_loss: 0.0448 - val_accuracy: 0.9804\n",
            "Epoch 12/20\n",
            "95/95 [==============================] - 142s 1s/step - loss: 0.0388 - accuracy: 0.9885 - val_loss: 0.0452 - val_accuracy: 0.9791\n",
            "Epoch 13/20\n",
            "95/95 [==============================] - 143s 2s/step - loss: 0.0386 - accuracy: 0.9862 - val_loss: 0.0458 - val_accuracy: 0.9791\n",
            "Epoch 14/20\n",
            "95/95 [==============================] - 142s 1s/step - loss: 0.0360 - accuracy: 0.9898 - val_loss: 0.0381 - val_accuracy: 0.9909\n",
            "Epoch 15/20\n",
            "95/95 [==============================] - 139s 1s/step - loss: 0.0286 - accuracy: 0.9921 - val_loss: 0.0379 - val_accuracy: 0.9883\n",
            "Epoch 16/20\n",
            "95/95 [==============================] - 140s 1s/step - loss: 0.0349 - accuracy: 0.9911 - val_loss: 0.0456 - val_accuracy: 0.9804\n",
            "Epoch 17/20\n",
            "95/95 [==============================] - 140s 1s/step - loss: 0.0321 - accuracy: 0.9914 - val_loss: 0.0448 - val_accuracy: 0.9817\n",
            "Epoch 18/20\n",
            "95/95 [==============================] - 138s 1s/step - loss: 0.0282 - accuracy: 0.9914 - val_loss: 0.0404 - val_accuracy: 0.9844\n",
            "Epoch 19/20\n",
            "95/95 [==============================] - 141s 1s/step - loss: 0.0270 - accuracy: 0.9901 - val_loss: 0.0343 - val_accuracy: 0.9922\n",
            "Epoch 20/20\n",
            "95/95 [==============================] - 141s 1s/step - loss: 0.0276 - accuracy: 0.9911 - val_loss: 0.0350 - val_accuracy: 0.9909\n",
            "[INFO] evaluating network...\n",
            "24/24 [==============================] - 23s 910ms/step\n"
          ]
        }
      ],
      "source": [
        "# train the head of the network\n",
        "print(\"[INFO] training head...\")\n",
        "H = model.fit(\n",
        "\taug.flow(trainX, trainY, batch_size=BS),\n",
        "\tsteps_per_epoch=len(trainX) // BS,\n",
        "\tvalidation_data=(testX, testY),\n",
        "\tvalidation_steps=len(testX) // BS,\n",
        "\tepochs=EPOCHS)\n",
        "\n",
        "# make predictions on the testing set\n",
        "print(\"[INFO] evaluating network...\")\n",
        "predIdxs = model.predict(testX, batch_size=BS)\n",
        "\n"
      ]
    },
    {
      "cell_type": "code",
      "execution_count": null,
      "id": "1b961653",
      "metadata": {
        "id": "1b961653"
      },
      "outputs": [],
      "source": [
        "# for each image in the testing set we need to find the index of the\n",
        "# label with corresponding largest predicted probability\n",
        "predIdxs = np.argmax(predIdxs, axis=1)\n",
        "\n",
        "# show a nicely formatted classification report\n",
        "print(classification_report(testY.argmax(axis=1), predIdxs,\n",
        "\ttarget_names=lb.classes_))\n"
      ]
    },
    {
      "cell_type": "code",
      "execution_count": null,
      "id": "afe9c64f",
      "metadata": {
        "colab": {
          "base_uri": "https://localhost:8080/"
        },
        "id": "afe9c64f",
        "outputId": "9ae2fa3f-a3fb-46c6-fa00-7eb946d33ba4"
      },
      "outputs": [
        {
          "output_type": "stream",
          "name": "stdout",
          "text": [
            "[INFO] saving mask detector model...\n"
          ]
        }
      ],
      "source": [
        "# serialize the model to disk\n",
        "print(\"[INFO] saving mask detector model...\")\n",
        "model.save(\"mask_detector.model\", save_format=\"h5\")"
      ]
    },
    {
      "cell_type": "code",
      "execution_count": null,
      "id": "755e2864",
      "metadata": {
        "colab": {
          "base_uri": "https://localhost:8080/",
          "height": 299
        },
        "id": "755e2864",
        "outputId": "3bce45e1-a49d-407b-a04e-88a177ec0a9e"
      },
      "outputs": [
        {
          "output_type": "display_data",
          "data": {
            "text/plain": [
              "<Figure size 432x288 with 1 Axes>"
            ],
            "image/png": "[encoded data removed]"
          },
          "metadata": {}
        }
      ],
      "source": [
        "# plot the training loss and accuracy\n",
        "N = EPOCHS\n",
        "plt.style.use(\"ggplot\")\n",
        "plt.figure()\n",
        "plt.plot(np.arange(0, N), H.history[\"loss\"], label=\"train_loss\")\n",
        "plt.plot(np.arange(0, N), H.history[\"val_loss\"], label=\"val_loss\")\n",
        "plt.plot(np.arange(0, N), H.history[\"accuracy\"], label=\"train_acc\")\n",
        "plt.plot(np.arange(0, N), H.history[\"val_accuracy\"], label=\"val_acc\")\n",
        "plt.title(\"Training Loss and Accuracy\")\n",
        "plt.xlabel(\"Epoch #\")\n",
        "plt.ylabel(\"Loss/Accuracy\")\n",
        "plt.legend(loc=\"lower left\")\n",
        "plt.savefig(\"plot.png\")"
      ]
    },
    {
      "cell_type": "code",
      "execution_count": null,
      "id": "b23deb2d",
      "metadata": {
        "id": "b23deb2d"
      },
      "outputs": [],
      "source": []
    }
  ],
  "metadata": {
    "kernelspec": {
      "display_name": "Python 3 (ipykernel)",
      "language": "python",
      "name": "python3"
    },
    "language_info": {
      "codemirror_mode": {
        "name": "ipython",
        "version": 3
      },
      "file_extension": ".py",
      "mimetype": "text/x-python",
      "name": "python",
      "nbconvert_exporter": "python",
      "pygments_lexer": "ipython3",
      "version": "3.9.12"
    },
    "colab": {
      "provenance": []
    }
  },
  "nbformat": 4,
  "nbformat_minor": 5
}